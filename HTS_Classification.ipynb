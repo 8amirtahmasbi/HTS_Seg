{
  "nbformat": 4,
  "nbformat_minor": 0,
  "metadata": {
    "colab": {
      "provenance": []
    },
    "kernelspec": {
      "name": "python3",
      "display_name": "Python 3"
    },
    "language_info": {
      "name": "python"
    }
  },
  "cells": [
    {
      "cell_type": "code",
      "execution_count": null,
      "metadata": {
        "id": "BxDHuB4NcLZy"
      },
      "outputs": [],
      "source": [
        "import pandas as pd\n",
        "import numpy as np\n",
        "from sklearn.model_selection import train_test_split\n",
        "from sklearn.decomposition import PCA\n",
        "from sklearn.preprocessing import StandardScaler\n",
        "from sklearn.ensemble import RandomForestClassifier, GradientBoostingClassifier\n",
        "from sklearn.svm import SVC\n",
        "from sklearn.linear_model import LogisticRegression\n",
        "from sklearn.neighbors import KNeighborsClassifier\n",
        "from sklearn.naive_bayes import GaussianNB\n",
        "from sklearn.metrics import accuracy_score\n",
        "\n",
        "data = pd.read_csv('your path/spheroid_time_series.csv')\n",
        "\n",
        "\n",
        "features = data.drop(columns=['ID', 'Condition']).fillna(0)\n",
        "labels = data['Condition']\n",
        "\n",
        "\n",
        "X_train, X_test, y_train, y_test = train_test_split(features, labels, test_size=0.2, random_state=42)\n",
        "\n",
        "\n",
        "def evaluate_models(X_train, X_test, y_train, y_test):\n",
        "    models = {\n",
        "        'Random Forest': RandomForestClassifier(),\n",
        "        'SVM': SVC(),\n",
        "        'Logistic Regression': LogisticRegression(max_iter=500),\n",
        "        'KNN': KNeighborsClassifier(),\n",
        "        'Naive Bayes': GaussianNB(),\n",
        "        'Gradient Boosting': GradientBoostingClassifier()\n",
        "    }\n",
        "\n",
        "    results = {}\n",
        "\n",
        "    for name, model in models.items():\n",
        "        model.fit(X_train, y_train)\n",
        "        y_pred = model.predict(X_test)\n",
        "        accuracy = accuracy_score(y_test, y_pred)\n",
        "        results[name] = accuracy\n",
        "\n",
        "    return results\n",
        "\n",
        "\n",
        "results_all = {}\n",
        "\n",
        "\n",
        "for n_components in range(2, 11):\n",
        "    scaler = StandardScaler()\n",
        "    X_scaled = scaler.fit_transform(features)\n",
        "\n",
        "    pca = PCA(n_components=n_components)\n",
        "    X_pca_train = pca.fit_transform(X_scaled[X_train.index])\n",
        "    X_pca_test = pca.transform(X_scaled[X_test.index])\n",
        "\n",
        "    results = evaluate_models(X_train=X_pca_train, X_test=X_pca_test, y_train=y_train, y_test=y_test)\n",
        "    results_all[n_components] = results\n",
        "\n",
        "\n",
        "results_df = pd.DataFrame(results_all).T\n",
        "results_df.index.name = 'Number of Features'\n",
        "results_df = results_df.reset_index()\n",
        "\n",
        "print(results_df)"
      ]
    }
  ]
}